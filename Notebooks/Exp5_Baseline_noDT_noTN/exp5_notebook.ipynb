{
 "cells": [
  {
   "attachments": {},
   "cell_type": "markdown",
   "metadata": {},
   "source": [
    "## Experiment 5: Baseline w/o Timestamp or Truck number in Vehicle feature\n",
    "This experiment trains, validates and tunes a regression of load weights on the following features:\n",
    "\n",
    "1. **Station:** Facility (Metro Central or Metro South) to which the load is arriving\n",
    "2. **Material:** Dominant material stream (MSW, residential or commercial organics, wood or yard debris) arriving in the load\n",
    "3. **Vehicle ID:** Information about the arriving vehicle's general type only\n",
    "4. **Vehicle fullness:** The vehicle's level of \"fullness\", expressed as a percentage, rounded to 2 decimal places (scale of 1 to 100)\n",
    "\n",
    "The dataset is described in more detail in [this notebook](https://app.hex.tech/2737cf3a-31c1-4361-9f90-8dea0b629cf0/hex/fa95f966-0912-42ca-9c83-9e14b785420f/draft/logic). "
   ]
  },
  {
   "cell_type": "code",
   "execution_count": 1,
   "metadata": {},
   "outputs": [],
   "source": [
    "# import packages\n",
    "import pandas as pd\n",
    "import numpy as np\n",
    "from pycaret.regression import *"
   ]
  },
  {
   "cell_type": "code",
   "execution_count": 2,
   "metadata": {},
   "outputs": [],
   "source": [
    "# import data\n",
    "path = r'C:\\Users\\Sherman\\OneDrive - Metro\\Sherman\\Projects\\Metro TS Load Weight Prediction\\Data\\Baseline_noDT_noTN.csv'\n",
    "exp5_data = pd.read_csv(path)"
   ]
  },
  {
   "cell_type": "code",
   "execution_count": 3,
   "metadata": {},
   "outputs": [
    {
     "data": {
      "text/html": [
       "<div>\n",
       "<style scoped>\n",
       "    .dataframe tbody tr th:only-of-type {\n",
       "        vertical-align: middle;\n",
       "    }\n",
       "\n",
       "    .dataframe tbody tr th {\n",
       "        vertical-align: top;\n",
       "    }\n",
       "\n",
       "    .dataframe thead th {\n",
       "        text-align: right;\n",
       "    }\n",
       "</style>\n",
       "<table border=\"1\" class=\"dataframe\">\n",
       "  <thead>\n",
       "    <tr style=\"text-align: right;\">\n",
       "      <th></th>\n",
       "      <th>Station</th>\n",
       "      <th>Material</th>\n",
       "      <th>Vehicle</th>\n",
       "      <th>Fullness</th>\n",
       "      <th>Tons</th>\n",
       "    </tr>\n",
       "  </thead>\n",
       "  <tbody>\n",
       "    <tr>\n",
       "      <th>0</th>\n",
       "      <td>Metro Central</td>\n",
       "      <td>MSW</td>\n",
       "      <td>Standard Pickup</td>\n",
       "      <td>0.01</td>\n",
       "      <td>0.17</td>\n",
       "    </tr>\n",
       "    <tr>\n",
       "      <th>1</th>\n",
       "      <td>Metro South</td>\n",
       "      <td>MSW</td>\n",
       "      <td>Car</td>\n",
       "      <td>0.01</td>\n",
       "      <td>0.05</td>\n",
       "    </tr>\n",
       "    <tr>\n",
       "      <th>2</th>\n",
       "      <td>Metro Central</td>\n",
       "      <td>MSW</td>\n",
       "      <td>Standard Pickup</td>\n",
       "      <td>0.01</td>\n",
       "      <td>0.13</td>\n",
       "    </tr>\n",
       "    <tr>\n",
       "      <th>3</th>\n",
       "      <td>Metro Central</td>\n",
       "      <td>Yd</td>\n",
       "      <td>Standard Pickup</td>\n",
       "      <td>0.01</td>\n",
       "      <td>0.04</td>\n",
       "    </tr>\n",
       "    <tr>\n",
       "      <th>4</th>\n",
       "      <td>Metro South</td>\n",
       "      <td>MSW</td>\n",
       "      <td>Car</td>\n",
       "      <td>0.03</td>\n",
       "      <td>0.15</td>\n",
       "    </tr>\n",
       "  </tbody>\n",
       "</table>\n",
       "</div>"
      ],
      "text/plain": [
       "         Station Material          Vehicle  Fullness  Tons\n",
       "0  Metro Central      MSW  Standard Pickup      0.01  0.17\n",
       "1    Metro South      MSW              Car      0.01  0.05\n",
       "2  Metro Central      MSW  Standard Pickup      0.01  0.13\n",
       "3  Metro Central       Yd  Standard Pickup      0.01  0.04\n",
       "4    Metro South      MSW              Car      0.03  0.15"
      ]
     },
     "execution_count": 3,
     "metadata": {},
     "output_type": "execute_result"
    }
   ],
   "source": [
    "exp5_data.head()"
   ]
  },
  {
   "cell_type": "code",
   "execution_count": 4,
   "metadata": {},
   "outputs": [],
   "source": [
    "# Set up experiment and pre-process data\n",
    "exp5 = setup(data = exp5_data, \n",
    "             target = 'Tons',\n",
    "             normalize = True,\n",
    "             session_id = 7512,\n",
    "             use_gpu = True\n",
    "            )"
   ]
  },
  {
   "cell_type": "code",
   "execution_count": 5,
   "metadata": {},
   "outputs": [],
   "source": [
    "# Get setup configuration grid\n",
    "exp5_config = pull()\n",
    "exp5_config.to_csv('exp5_config.csv', index=False)"
   ]
  },
  {
   "cell_type": "code",
   "execution_count": 6,
   "metadata": {},
   "outputs": [
    {
     "data": {
      "text/html": [
       "<div>\n",
       "<style scoped>\n",
       "    .dataframe tbody tr th:only-of-type {\n",
       "        vertical-align: middle;\n",
       "    }\n",
       "\n",
       "    .dataframe tbody tr th {\n",
       "        vertical-align: top;\n",
       "    }\n",
       "\n",
       "    .dataframe thead th {\n",
       "        text-align: right;\n",
       "    }\n",
       "</style>\n",
       "<table border=\"1\" class=\"dataframe\">\n",
       "  <thead>\n",
       "    <tr style=\"text-align: right;\">\n",
       "      <th></th>\n",
       "      <th></th>\n",
       "      <th></th>\n",
       "    </tr>\n",
       "    <tr>\n",
       "      <th></th>\n",
       "      <th></th>\n",
       "      <th></th>\n",
       "    </tr>\n",
       "  </thead>\n",
       "  <tbody>\n",
       "    <tr>\n",
       "      <th>Initiated</th>\n",
       "      <td>. . . . . . . . . . . . . . . . . .</td>\n",
       "      <td>14:03:19</td>\n",
       "    </tr>\n",
       "    <tr>\n",
       "      <th>Status</th>\n",
       "      <td>. . . . . . . . . . . . . . . . . .</td>\n",
       "      <td>Loading Dependencies</td>\n",
       "    </tr>\n",
       "    <tr>\n",
       "      <th>Estimator</th>\n",
       "      <td>. . . . . . . . . . . . . . . . . .</td>\n",
       "      <td>Compiling Library</td>\n",
       "    </tr>\n",
       "  </tbody>\n",
       "</table>\n",
       "</div>"
      ],
      "text/plain": [
       "                                                                    \n",
       "                                                                    \n",
       "Initiated  . . . . . . . . . . . . . . . . . .              14:03:19\n",
       "Status     . . . . . . . . . . . . . . . . . .  Loading Dependencies\n",
       "Estimator  . . . . . . . . . . . . . . . . . .     Compiling Library"
      ]
     },
     "metadata": {},
     "output_type": "display_data"
    },
    {
     "data": {
      "text/html": [
       "<style type=\"text/css\">\n",
       "#T_f5c8d_row10_col0, #T_f5c8d_row10_col1, #T_f5c8d_row10_col2, #T_f5c8d_row10_col3, #T_f5c8d_row10_col4, #T_f5c8d_row10_col5 {\n",
       "  background: yellow;\n",
       "}\n",
       "</style>\n",
       "<table id=\"T_f5c8d\">\n",
       "  <thead>\n",
       "    <tr>\n",
       "      <th class=\"blank level0\" >&nbsp;</th>\n",
       "      <th id=\"T_f5c8d_level0_col0\" class=\"col_heading level0 col0\" >MAE</th>\n",
       "      <th id=\"T_f5c8d_level0_col1\" class=\"col_heading level0 col1\" >MSE</th>\n",
       "      <th id=\"T_f5c8d_level0_col2\" class=\"col_heading level0 col2\" >RMSE</th>\n",
       "      <th id=\"T_f5c8d_level0_col3\" class=\"col_heading level0 col3\" >R2</th>\n",
       "      <th id=\"T_f5c8d_level0_col4\" class=\"col_heading level0 col4\" >RMSLE</th>\n",
       "      <th id=\"T_f5c8d_level0_col5\" class=\"col_heading level0 col5\" >MAPE</th>\n",
       "    </tr>\n",
       "    <tr>\n",
       "      <th class=\"index_name level0\" >Fold</th>\n",
       "      <th class=\"blank col0\" >&nbsp;</th>\n",
       "      <th class=\"blank col1\" >&nbsp;</th>\n",
       "      <th class=\"blank col2\" >&nbsp;</th>\n",
       "      <th class=\"blank col3\" >&nbsp;</th>\n",
       "      <th class=\"blank col4\" >&nbsp;</th>\n",
       "      <th class=\"blank col5\" >&nbsp;</th>\n",
       "    </tr>\n",
       "  </thead>\n",
       "  <tbody>\n",
       "    <tr>\n",
       "      <th id=\"T_f5c8d_level0_row0\" class=\"row_heading level0 row0\" >0</th>\n",
       "      <td id=\"T_f5c8d_row0_col0\" class=\"data row0 col0\" >0.0289</td>\n",
       "      <td id=\"T_f5c8d_row0_col1\" class=\"data row0 col1\" >0.0049</td>\n",
       "      <td id=\"T_f5c8d_row0_col2\" class=\"data row0 col2\" >0.0702</td>\n",
       "      <td id=\"T_f5c8d_row0_col3\" class=\"data row0 col3\" >0.9992</td>\n",
       "      <td id=\"T_f5c8d_row0_col4\" class=\"data row0 col4\" >0.0242</td>\n",
       "      <td id=\"T_f5c8d_row0_col5\" class=\"data row0 col5\" >0.1094</td>\n",
       "    </tr>\n",
       "    <tr>\n",
       "      <th id=\"T_f5c8d_level0_row1\" class=\"row_heading level0 row1\" >1</th>\n",
       "      <td id=\"T_f5c8d_row1_col0\" class=\"data row1 col0\" >0.0289</td>\n",
       "      <td id=\"T_f5c8d_row1_col1\" class=\"data row1 col1\" >0.0037</td>\n",
       "      <td id=\"T_f5c8d_row1_col2\" class=\"data row1 col2\" >0.0610</td>\n",
       "      <td id=\"T_f5c8d_row1_col3\" class=\"data row1 col3\" >0.9994</td>\n",
       "      <td id=\"T_f5c8d_row1_col4\" class=\"data row1 col4\" >0.0237</td>\n",
       "      <td id=\"T_f5c8d_row1_col5\" class=\"data row1 col5\" >0.1103</td>\n",
       "    </tr>\n",
       "    <tr>\n",
       "      <th id=\"T_f5c8d_level0_row2\" class=\"row_heading level0 row2\" >2</th>\n",
       "      <td id=\"T_f5c8d_row2_col0\" class=\"data row2 col0\" >0.0292</td>\n",
       "      <td id=\"T_f5c8d_row2_col1\" class=\"data row2 col1\" >0.0051</td>\n",
       "      <td id=\"T_f5c8d_row2_col2\" class=\"data row2 col2\" >0.0715</td>\n",
       "      <td id=\"T_f5c8d_row2_col3\" class=\"data row2 col3\" >0.9992</td>\n",
       "      <td id=\"T_f5c8d_row2_col4\" class=\"data row2 col4\" >0.0253</td>\n",
       "      <td id=\"T_f5c8d_row2_col5\" class=\"data row2 col5\" >0.1115</td>\n",
       "    </tr>\n",
       "    <tr>\n",
       "      <th id=\"T_f5c8d_level0_row3\" class=\"row_heading level0 row3\" >3</th>\n",
       "      <td id=\"T_f5c8d_row3_col0\" class=\"data row3 col0\" >0.0288</td>\n",
       "      <td id=\"T_f5c8d_row3_col1\" class=\"data row3 col1\" >0.0029</td>\n",
       "      <td id=\"T_f5c8d_row3_col2\" class=\"data row3 col2\" >0.0542</td>\n",
       "      <td id=\"T_f5c8d_row3_col3\" class=\"data row3 col3\" >0.9995</td>\n",
       "      <td id=\"T_f5c8d_row3_col4\" class=\"data row3 col4\" >0.0240</td>\n",
       "      <td id=\"T_f5c8d_row3_col5\" class=\"data row3 col5\" >0.1097</td>\n",
       "    </tr>\n",
       "    <tr>\n",
       "      <th id=\"T_f5c8d_level0_row4\" class=\"row_heading level0 row4\" >4</th>\n",
       "      <td id=\"T_f5c8d_row4_col0\" class=\"data row4 col0\" >0.0291</td>\n",
       "      <td id=\"T_f5c8d_row4_col1\" class=\"data row4 col1\" >0.0036</td>\n",
       "      <td id=\"T_f5c8d_row4_col2\" class=\"data row4 col2\" >0.0597</td>\n",
       "      <td id=\"T_f5c8d_row4_col3\" class=\"data row4 col3\" >0.9994</td>\n",
       "      <td id=\"T_f5c8d_row4_col4\" class=\"data row4 col4\" >0.0244</td>\n",
       "      <td id=\"T_f5c8d_row4_col5\" class=\"data row4 col5\" >0.1116</td>\n",
       "    </tr>\n",
       "    <tr>\n",
       "      <th id=\"T_f5c8d_level0_row5\" class=\"row_heading level0 row5\" >5</th>\n",
       "      <td id=\"T_f5c8d_row5_col0\" class=\"data row5 col0\" >0.0292</td>\n",
       "      <td id=\"T_f5c8d_row5_col1\" class=\"data row5 col1\" >0.0050</td>\n",
       "      <td id=\"T_f5c8d_row5_col2\" class=\"data row5 col2\" >0.0705</td>\n",
       "      <td id=\"T_f5c8d_row5_col3\" class=\"data row5 col3\" >0.9992</td>\n",
       "      <td id=\"T_f5c8d_row5_col4\" class=\"data row5 col4\" >0.0251</td>\n",
       "      <td id=\"T_f5c8d_row5_col5\" class=\"data row5 col5\" >0.1114</td>\n",
       "    </tr>\n",
       "    <tr>\n",
       "      <th id=\"T_f5c8d_level0_row6\" class=\"row_heading level0 row6\" >6</th>\n",
       "      <td id=\"T_f5c8d_row6_col0\" class=\"data row6 col0\" >0.0291</td>\n",
       "      <td id=\"T_f5c8d_row6_col1\" class=\"data row6 col1\" >0.0040</td>\n",
       "      <td id=\"T_f5c8d_row6_col2\" class=\"data row6 col2\" >0.0635</td>\n",
       "      <td id=\"T_f5c8d_row6_col3\" class=\"data row6 col3\" >0.9993</td>\n",
       "      <td id=\"T_f5c8d_row6_col4\" class=\"data row6 col4\" >0.0243</td>\n",
       "      <td id=\"T_f5c8d_row6_col5\" class=\"data row6 col5\" >0.1112</td>\n",
       "    </tr>\n",
       "    <tr>\n",
       "      <th id=\"T_f5c8d_level0_row7\" class=\"row_heading level0 row7\" >7</th>\n",
       "      <td id=\"T_f5c8d_row7_col0\" class=\"data row7 col0\" >0.0289</td>\n",
       "      <td id=\"T_f5c8d_row7_col1\" class=\"data row7 col1\" >0.0041</td>\n",
       "      <td id=\"T_f5c8d_row7_col2\" class=\"data row7 col2\" >0.0644</td>\n",
       "      <td id=\"T_f5c8d_row7_col3\" class=\"data row7 col3\" >0.9993</td>\n",
       "      <td id=\"T_f5c8d_row7_col4\" class=\"data row7 col4\" >0.0233</td>\n",
       "      <td id=\"T_f5c8d_row7_col5\" class=\"data row7 col5\" >0.1106</td>\n",
       "    </tr>\n",
       "    <tr>\n",
       "      <th id=\"T_f5c8d_level0_row8\" class=\"row_heading level0 row8\" >8</th>\n",
       "      <td id=\"T_f5c8d_row8_col0\" class=\"data row8 col0\" >0.0288</td>\n",
       "      <td id=\"T_f5c8d_row8_col1\" class=\"data row8 col1\" >0.0033</td>\n",
       "      <td id=\"T_f5c8d_row8_col2\" class=\"data row8 col2\" >0.0573</td>\n",
       "      <td id=\"T_f5c8d_row8_col3\" class=\"data row8 col3\" >0.9995</td>\n",
       "      <td id=\"T_f5c8d_row8_col4\" class=\"data row8 col4\" >0.0235</td>\n",
       "      <td id=\"T_f5c8d_row8_col5\" class=\"data row8 col5\" >0.1105</td>\n",
       "    </tr>\n",
       "    <tr>\n",
       "      <th id=\"T_f5c8d_level0_row9\" class=\"row_heading level0 row9\" >9</th>\n",
       "      <td id=\"T_f5c8d_row9_col0\" class=\"data row9 col0\" >0.0290</td>\n",
       "      <td id=\"T_f5c8d_row9_col1\" class=\"data row9 col1\" >0.0031</td>\n",
       "      <td id=\"T_f5c8d_row9_col2\" class=\"data row9 col2\" >0.0561</td>\n",
       "      <td id=\"T_f5c8d_row9_col3\" class=\"data row9 col3\" >0.9995</td>\n",
       "      <td id=\"T_f5c8d_row9_col4\" class=\"data row9 col4\" >0.0239</td>\n",
       "      <td id=\"T_f5c8d_row9_col5\" class=\"data row9 col5\" >0.1112</td>\n",
       "    </tr>\n",
       "    <tr>\n",
       "      <th id=\"T_f5c8d_level0_row10\" class=\"row_heading level0 row10\" >Mean</th>\n",
       "      <td id=\"T_f5c8d_row10_col0\" class=\"data row10 col0\" >0.0290</td>\n",
       "      <td id=\"T_f5c8d_row10_col1\" class=\"data row10 col1\" >0.0040</td>\n",
       "      <td id=\"T_f5c8d_row10_col2\" class=\"data row10 col2\" >0.0628</td>\n",
       "      <td id=\"T_f5c8d_row10_col3\" class=\"data row10 col3\" >0.9993</td>\n",
       "      <td id=\"T_f5c8d_row10_col4\" class=\"data row10 col4\" >0.0242</td>\n",
       "      <td id=\"T_f5c8d_row10_col5\" class=\"data row10 col5\" >0.1107</td>\n",
       "    </tr>\n",
       "    <tr>\n",
       "      <th id=\"T_f5c8d_level0_row11\" class=\"row_heading level0 row11\" >Std</th>\n",
       "      <td id=\"T_f5c8d_row11_col0\" class=\"data row11 col0\" >0.0001</td>\n",
       "      <td id=\"T_f5c8d_row11_col1\" class=\"data row11 col1\" >0.0008</td>\n",
       "      <td id=\"T_f5c8d_row11_col2\" class=\"data row11 col2\" >0.0060</td>\n",
       "      <td id=\"T_f5c8d_row11_col3\" class=\"data row11 col3\" >0.0001</td>\n",
       "      <td id=\"T_f5c8d_row11_col4\" class=\"data row11 col4\" >0.0006</td>\n",
       "      <td id=\"T_f5c8d_row11_col5\" class=\"data row11 col5\" >0.0007</td>\n",
       "    </tr>\n",
       "  </tbody>\n",
       "</table>\n"
      ],
      "text/plain": [
       "<pandas.io.formats.style.Styler at 0x2122ac5a640>"
      ]
     },
     "metadata": {},
     "output_type": "display_data"
    },
    {
     "data": {
      "application/vnd.jupyter.widget-view+json": {
       "model_id": "9aeba895d4a04ede96d25a8151f5c956",
       "version_major": 2,
       "version_minor": 0
      },
      "text/plain": [
       "Processing:   0%|          | 0/4 [00:00<?, ?it/s]"
      ]
     },
     "metadata": {},
     "output_type": "display_data"
    }
   ],
   "source": [
    "# train an extra trees regressor using 10-fold CV\n",
    "exp5_bestmodel = create_model('et')\n",
    "\n",
    "# track and dump cv training scores\n",
    "exp5_training = pull()\n",
    "exp5_training.to_csv('exp5_training.csv', index=False)"
   ]
  },
  {
   "cell_type": "code",
   "execution_count": 7,
   "metadata": {},
   "outputs": [
    {
     "data": {
      "text/html": [],
      "text/plain": [
       "<IPython.core.display.HTML object>"
      ]
     },
     "metadata": {},
     "output_type": "display_data"
    },
    {
     "data": {
      "text/plain": [
       "'Residuals.png'"
      ]
     },
     "execution_count": 7,
     "metadata": {},
     "output_type": "execute_result"
    }
   ],
   "source": [
    "# Residuals plot\n",
    "plot_model(exp5_bestmodel, plot = 'residuals', save = True)"
   ]
  },
  {
   "cell_type": "code",
   "execution_count": 8,
   "metadata": {},
   "outputs": [
    {
     "data": {
      "text/html": [],
      "text/plain": [
       "<IPython.core.display.HTML object>"
      ]
     },
     "metadata": {},
     "output_type": "display_data"
    },
    {
     "data": {
      "text/plain": [
       "'Prediction Error.png'"
      ]
     },
     "execution_count": 8,
     "metadata": {},
     "output_type": "execute_result"
    }
   ],
   "source": [
    "# Error plot\n",
    "plot_model(exp5_bestmodel, plot='error', save=True)"
   ]
  },
  {
   "cell_type": "code",
   "execution_count": 9,
   "metadata": {},
   "outputs": [
    {
     "data": {
      "text/html": [],
      "text/plain": [
       "<IPython.core.display.HTML object>"
      ]
     },
     "metadata": {},
     "output_type": "display_data"
    },
    {
     "data": {
      "text/plain": [
       "'Feature Importance.png'"
      ]
     },
     "execution_count": 9,
     "metadata": {},
     "output_type": "execute_result"
    }
   ],
   "source": [
    "# Feature importance plot\n",
    "plot_model(exp5_bestmodel, plot='feature', save=True)"
   ]
  },
  {
   "cell_type": "code",
   "execution_count": 10,
   "metadata": {},
   "outputs": [
    {
     "data": {
      "text/html": [
       "<style type=\"text/css\">\n",
       "</style>\n",
       "<table id=\"T_7ea68\">\n",
       "  <thead>\n",
       "    <tr>\n",
       "      <th class=\"blank level0\" >&nbsp;</th>\n",
       "      <th id=\"T_7ea68_level0_col0\" class=\"col_heading level0 col0\" >Model</th>\n",
       "      <th id=\"T_7ea68_level0_col1\" class=\"col_heading level0 col1\" >MAE</th>\n",
       "      <th id=\"T_7ea68_level0_col2\" class=\"col_heading level0 col2\" >MSE</th>\n",
       "      <th id=\"T_7ea68_level0_col3\" class=\"col_heading level0 col3\" >RMSE</th>\n",
       "      <th id=\"T_7ea68_level0_col4\" class=\"col_heading level0 col4\" >R2</th>\n",
       "      <th id=\"T_7ea68_level0_col5\" class=\"col_heading level0 col5\" >RMSLE</th>\n",
       "      <th id=\"T_7ea68_level0_col6\" class=\"col_heading level0 col6\" >MAPE</th>\n",
       "    </tr>\n",
       "  </thead>\n",
       "  <tbody>\n",
       "    <tr>\n",
       "      <th id=\"T_7ea68_level0_row0\" class=\"row_heading level0 row0\" >0</th>\n",
       "      <td id=\"T_7ea68_row0_col0\" class=\"data row0 col0\" >Extra Trees Regressor</td>\n",
       "      <td id=\"T_7ea68_row0_col1\" class=\"data row0 col1\" >0.0289</td>\n",
       "      <td id=\"T_7ea68_row0_col2\" class=\"data row0 col2\" >0.0038</td>\n",
       "      <td id=\"T_7ea68_row0_col3\" class=\"data row0 col3\" >0.0618</td>\n",
       "      <td id=\"T_7ea68_row0_col4\" class=\"data row0 col4\" >0.9994</td>\n",
       "      <td id=\"T_7ea68_row0_col5\" class=\"data row0 col5\" >0.0238</td>\n",
       "      <td id=\"T_7ea68_row0_col6\" class=\"data row0 col6\" >0.1106</td>\n",
       "    </tr>\n",
       "  </tbody>\n",
       "</table>\n"
      ],
      "text/plain": [
       "<pandas.io.formats.style.Styler at 0x2122aec1b80>"
      ]
     },
     "metadata": {},
     "output_type": "display_data"
    }
   ],
   "source": [
    "# Use test/hold-out set to make predictions\n",
    "exp5_pred_holdout = predict_model(exp5_bestmodel)\n",
    "exp5_pred_holdout.to_csv('exp5_pred_holdout.csv', index=False)\n",
    "\n",
    "# Pull and export test/hold-out scores\n",
    "exp5_holdout = pull()\n",
    "exp5_holdout.to_csv('exp5_holdout.csv', index=False)"
   ]
  },
  {
   "cell_type": "code",
   "execution_count": 11,
   "metadata": {},
   "outputs": [
    {
     "name": "stdout",
     "output_type": "stream",
     "text": [
      "Transformation Pipeline and Model Successfully Saved\n"
     ]
    },
    {
     "data": {
      "text/plain": [
       "(Pipeline(memory=FastMemory(location=C:\\Users\\Sherman\\AppData\\Local\\Temp\\joblib),\n",
       "          steps=[('numerical_imputer',\n",
       "                  TransformerWrapper(include=['Fullness'],\n",
       "                                     transformer=SimpleImputer())),\n",
       "                 ('categorical_imputer',\n",
       "                  TransformerWrapper(include=['Station', 'Material', 'Vehicle'],\n",
       "                                     transformer=SimpleImputer(strategy='most_frequent'))),\n",
       "                 ('ordinal_encoding',\n",
       "                  TransformerWrap...\n",
       "                                                                          'mapping': Metro Central    0\n",
       " Metro South      1\n",
       " NaN             -1\n",
       " dtype: int64}]))),\n",
       "                 ('onehot_encoding',\n",
       "                  TransformerWrapper(include=['Material', 'Vehicle'],\n",
       "                                     transformer=OneHotEncoder(cols=['Material',\n",
       "                                                                     'Vehicle'],\n",
       "                                                               handle_missing='return_nan',\n",
       "                                                               use_cat_names=True))),\n",
       "                 ('normalize', TransformerWrapper(transformer=StandardScaler())),\n",
       "                 ('trained_model',\n",
       "                  ExtraTreesRegressor(n_jobs=-1, random_state=7512))]),\n",
       " 'exp5_pipeline.pkl')"
      ]
     },
     "execution_count": 11,
     "metadata": {},
     "output_type": "execute_result"
    }
   ],
   "source": [
    "# Save model pkl file\n",
    "save_model(exp5_bestmodel, 'exp5_pipeline')"
   ]
  }
 ],
 "metadata": {
  "kernelspec": {
   "display_name": "PyCaret",
   "language": "python",
   "name": "python3"
  },
  "language_info": {
   "codemirror_mode": {
    "name": "ipython",
    "version": 3
   },
   "file_extension": ".py",
   "mimetype": "text/x-python",
   "name": "python",
   "nbconvert_exporter": "python",
   "pygments_lexer": "ipython3",
   "version": "3.8.16"
  },
  "orig_nbformat": 4,
  "vscode": {
   "interpreter": {
    "hash": "21b6eb3ede51be2a2a535b3f6476b1f8cba2bd29881341af479b5cf7ae1c74a4"
   }
  }
 },
 "nbformat": 4,
 "nbformat_minor": 2
}
