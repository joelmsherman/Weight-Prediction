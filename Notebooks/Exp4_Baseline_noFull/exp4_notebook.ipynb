{
 "cells": [
  {
   "attachments": {},
   "cell_type": "markdown",
   "metadata": {},
   "source": [
    "## Experiment 4: Baseline (w/o Fullness feature)\n",
    "This experiment trains, validates and tunes a regression of load weights on the following features:\n",
    "\n",
    "1. **Timestamp** Datetime attributes of the arriving load\n",
    "1. **Station:** Facility (Metro Central or Metro South) to which the load is arriving\n",
    "2. **Material:** Dominant material stream (MSW, residential or commercial organics, wood or yard debris) arriving in the load\n",
    "3. **Vehicle ID:** Information about the arriving vehicle's general type only (i.e. pickup, car, etc.)\n",
    "\n",
    "The dataset is described in more detail in [this notebook](https://app.hex.tech/2737cf3a-31c1-4361-9f90-8dea0b629cf0/hex/fa95f966-0912-42ca-9c83-9e14b785420f/draft/logic). "
   ]
  },
  {
   "cell_type": "code",
   "execution_count": 1,
   "metadata": {},
   "outputs": [],
   "source": [
    "# import packages\n",
    "import pandas as pd\n",
    "import numpy as np\n",
    "from pycaret.regression import *"
   ]
  },
  {
   "cell_type": "code",
   "execution_count": 2,
   "metadata": {},
   "outputs": [],
   "source": [
    "# import data\n",
    "path = r'C:\\Users\\Sherman\\OneDrive - Metro\\Sherman\\Projects\\Metro TS Load Weight Prediction\\Data\\Baseline_noFull.csv'\n",
    "exp4_data = pd.read_csv(path)\n",
    "\n",
    "# convert timestamp column to datetime type\n",
    "exp4_data['TimeStamp'] = pd.to_datetime(exp4_data['TimeStamp'])"
   ]
  },
  {
   "cell_type": "code",
   "execution_count": 3,
   "metadata": {},
   "outputs": [
    {
     "data": {
      "text/html": [
       "<div>\n",
       "<style scoped>\n",
       "    .dataframe tbody tr th:only-of-type {\n",
       "        vertical-align: middle;\n",
       "    }\n",
       "\n",
       "    .dataframe tbody tr th {\n",
       "        vertical-align: top;\n",
       "    }\n",
       "\n",
       "    .dataframe thead th {\n",
       "        text-align: right;\n",
       "    }\n",
       "</style>\n",
       "<table border=\"1\" class=\"dataframe\">\n",
       "  <thead>\n",
       "    <tr style=\"text-align: right;\">\n",
       "      <th></th>\n",
       "      <th>TimeStamp</th>\n",
       "      <th>Station</th>\n",
       "      <th>Material</th>\n",
       "      <th>Vehicle</th>\n",
       "      <th>Tons</th>\n",
       "    </tr>\n",
       "  </thead>\n",
       "  <tbody>\n",
       "    <tr>\n",
       "      <th>0</th>\n",
       "      <td>2021-04-04 07:02:21</td>\n",
       "      <td>Metro South</td>\n",
       "      <td>MSW</td>\n",
       "      <td>Standard Pickup</td>\n",
       "      <td>0.11</td>\n",
       "    </tr>\n",
       "    <tr>\n",
       "      <th>1</th>\n",
       "      <td>2021-04-04 07:01:35</td>\n",
       "      <td>Metro South</td>\n",
       "      <td>MSW</td>\n",
       "      <td>Standard Pickup</td>\n",
       "      <td>0.13</td>\n",
       "    </tr>\n",
       "    <tr>\n",
       "      <th>2</th>\n",
       "      <td>2021-04-04 07:05:41</td>\n",
       "      <td>Metro South</td>\n",
       "      <td>MSW</td>\n",
       "      <td>Standard Pickup</td>\n",
       "      <td>0.22</td>\n",
       "    </tr>\n",
       "    <tr>\n",
       "      <th>3</th>\n",
       "      <td>2021-04-04 07:13:58</td>\n",
       "      <td>Metro South</td>\n",
       "      <td>MSW</td>\n",
       "      <td>Standard Pickup</td>\n",
       "      <td>0.09</td>\n",
       "    </tr>\n",
       "    <tr>\n",
       "      <th>4</th>\n",
       "      <td>2021-04-04 07:15:39</td>\n",
       "      <td>Metro South</td>\n",
       "      <td>MSW</td>\n",
       "      <td>Standard Pickup</td>\n",
       "      <td>0.06</td>\n",
       "    </tr>\n",
       "  </tbody>\n",
       "</table>\n",
       "</div>"
      ],
      "text/plain": [
       "            TimeStamp      Station Material          Vehicle  Tons\n",
       "0 2021-04-04 07:02:21  Metro South      MSW  Standard Pickup  0.11\n",
       "1 2021-04-04 07:01:35  Metro South      MSW  Standard Pickup  0.13\n",
       "2 2021-04-04 07:05:41  Metro South      MSW  Standard Pickup  0.22\n",
       "3 2021-04-04 07:13:58  Metro South      MSW  Standard Pickup  0.09\n",
       "4 2021-04-04 07:15:39  Metro South      MSW  Standard Pickup  0.06"
      ]
     },
     "execution_count": 3,
     "metadata": {},
     "output_type": "execute_result"
    }
   ],
   "source": [
    "exp4_data.head()"
   ]
  },
  {
   "cell_type": "code",
   "execution_count": 4,
   "metadata": {},
   "outputs": [],
   "source": [
    "# Set up experiment and pre-process data\n",
    "exp4 = setup(data = exp4_data, \n",
    "             target = 'Tons',\n",
    "             normalize = True,\n",
    "             session_id = 7512,\n",
    "             use_gpu = True\n",
    "            )"
   ]
  },
  {
   "cell_type": "code",
   "execution_count": 5,
   "metadata": {},
   "outputs": [],
   "source": [
    "# Get setup configuration grid\n",
    "exp4_config = pull()\n",
    "exp4_config.to_csv('exp4_config.csv', index=False)"
   ]
  },
  {
   "cell_type": "code",
   "execution_count": 6,
   "metadata": {},
   "outputs": [
    {
     "data": {
      "text/html": [
       "<div>\n",
       "<style scoped>\n",
       "    .dataframe tbody tr th:only-of-type {\n",
       "        vertical-align: middle;\n",
       "    }\n",
       "\n",
       "    .dataframe tbody tr th {\n",
       "        vertical-align: top;\n",
       "    }\n",
       "\n",
       "    .dataframe thead th {\n",
       "        text-align: right;\n",
       "    }\n",
       "</style>\n",
       "<table border=\"1\" class=\"dataframe\">\n",
       "  <thead>\n",
       "    <tr style=\"text-align: right;\">\n",
       "      <th></th>\n",
       "      <th></th>\n",
       "      <th></th>\n",
       "    </tr>\n",
       "    <tr>\n",
       "      <th></th>\n",
       "      <th></th>\n",
       "      <th></th>\n",
       "    </tr>\n",
       "  </thead>\n",
       "  <tbody>\n",
       "    <tr>\n",
       "      <th>Initiated</th>\n",
       "      <td>. . . . . . . . . . . . . . . . . .</td>\n",
       "      <td>12:23:46</td>\n",
       "    </tr>\n",
       "    <tr>\n",
       "      <th>Status</th>\n",
       "      <td>. . . . . . . . . . . . . . . . . .</td>\n",
       "      <td>Loading Dependencies</td>\n",
       "    </tr>\n",
       "    <tr>\n",
       "      <th>Estimator</th>\n",
       "      <td>. . . . . . . . . . . . . . . . . .</td>\n",
       "      <td>Compiling Library</td>\n",
       "    </tr>\n",
       "  </tbody>\n",
       "</table>\n",
       "</div>"
      ],
      "text/plain": [
       "                                                                    \n",
       "                                                                    \n",
       "Initiated  . . . . . . . . . . . . . . . . . .              12:23:46\n",
       "Status     . . . . . . . . . . . . . . . . . .  Loading Dependencies\n",
       "Estimator  . . . . . . . . . . . . . . . . . .     Compiling Library"
      ]
     },
     "metadata": {},
     "output_type": "display_data"
    },
    {
     "data": {
      "text/html": [
       "<style type=\"text/css\">\n",
       "#T_356a8_row10_col0, #T_356a8_row10_col1, #T_356a8_row10_col2, #T_356a8_row10_col3, #T_356a8_row10_col4, #T_356a8_row10_col5 {\n",
       "  background: yellow;\n",
       "}\n",
       "</style>\n",
       "<table id=\"T_356a8\">\n",
       "  <thead>\n",
       "    <tr>\n",
       "      <th class=\"blank level0\" >&nbsp;</th>\n",
       "      <th id=\"T_356a8_level0_col0\" class=\"col_heading level0 col0\" >MAE</th>\n",
       "      <th id=\"T_356a8_level0_col1\" class=\"col_heading level0 col1\" >MSE</th>\n",
       "      <th id=\"T_356a8_level0_col2\" class=\"col_heading level0 col2\" >RMSE</th>\n",
       "      <th id=\"T_356a8_level0_col3\" class=\"col_heading level0 col3\" >R2</th>\n",
       "      <th id=\"T_356a8_level0_col4\" class=\"col_heading level0 col4\" >RMSLE</th>\n",
       "      <th id=\"T_356a8_level0_col5\" class=\"col_heading level0 col5\" >MAPE</th>\n",
       "    </tr>\n",
       "    <tr>\n",
       "      <th class=\"index_name level0\" >Fold</th>\n",
       "      <th class=\"blank col0\" >&nbsp;</th>\n",
       "      <th class=\"blank col1\" >&nbsp;</th>\n",
       "      <th class=\"blank col2\" >&nbsp;</th>\n",
       "      <th class=\"blank col3\" >&nbsp;</th>\n",
       "      <th class=\"blank col4\" >&nbsp;</th>\n",
       "      <th class=\"blank col5\" >&nbsp;</th>\n",
       "    </tr>\n",
       "  </thead>\n",
       "  <tbody>\n",
       "    <tr>\n",
       "      <th id=\"T_356a8_level0_row0\" class=\"row_heading level0 row0\" >0</th>\n",
       "      <td id=\"T_356a8_row0_col0\" class=\"data row0 col0\" >0.5588</td>\n",
       "      <td id=\"T_356a8_row0_col1\" class=\"data row0 col1\" >1.2208</td>\n",
       "      <td id=\"T_356a8_row0_col2\" class=\"data row0 col2\" >1.1049</td>\n",
       "      <td id=\"T_356a8_row0_col3\" class=\"data row0 col3\" >0.7966</td>\n",
       "      <td id=\"T_356a8_row0_col4\" class=\"data row0 col4\" >0.2858</td>\n",
       "      <td id=\"T_356a8_row0_col5\" class=\"data row0 col5\" >1.1918</td>\n",
       "    </tr>\n",
       "    <tr>\n",
       "      <th id=\"T_356a8_level0_row1\" class=\"row_heading level0 row1\" >1</th>\n",
       "      <td id=\"T_356a8_row1_col0\" class=\"data row1 col0\" >0.5604</td>\n",
       "      <td id=\"T_356a8_row1_col1\" class=\"data row1 col1\" >1.2271</td>\n",
       "      <td id=\"T_356a8_row1_col2\" class=\"data row1 col2\" >1.1077</td>\n",
       "      <td id=\"T_356a8_row1_col3\" class=\"data row1 col3\" >0.8002</td>\n",
       "      <td id=\"T_356a8_row1_col4\" class=\"data row1 col4\" >0.2850</td>\n",
       "      <td id=\"T_356a8_row1_col5\" class=\"data row1 col5\" >1.2431</td>\n",
       "    </tr>\n",
       "    <tr>\n",
       "      <th id=\"T_356a8_level0_row2\" class=\"row_heading level0 row2\" >2</th>\n",
       "      <td id=\"T_356a8_row2_col0\" class=\"data row2 col0\" >0.5625</td>\n",
       "      <td id=\"T_356a8_row2_col1\" class=\"data row2 col1\" >1.2536</td>\n",
       "      <td id=\"T_356a8_row2_col2\" class=\"data row2 col2\" >1.1196</td>\n",
       "      <td id=\"T_356a8_row2_col3\" class=\"data row2 col3\" >0.7914</td>\n",
       "      <td id=\"T_356a8_row2_col4\" class=\"data row2 col4\" >0.2888</td>\n",
       "      <td id=\"T_356a8_row2_col5\" class=\"data row2 col5\" >1.2037</td>\n",
       "    </tr>\n",
       "    <tr>\n",
       "      <th id=\"T_356a8_level0_row3\" class=\"row_heading level0 row3\" >3</th>\n",
       "      <td id=\"T_356a8_row3_col0\" class=\"data row3 col0\" >0.5566</td>\n",
       "      <td id=\"T_356a8_row3_col1\" class=\"data row3 col1\" >1.2115</td>\n",
       "      <td id=\"T_356a8_row3_col2\" class=\"data row3 col2\" >1.1007</td>\n",
       "      <td id=\"T_356a8_row3_col3\" class=\"data row3 col3\" >0.7962</td>\n",
       "      <td id=\"T_356a8_row3_col4\" class=\"data row3 col4\" >0.2866</td>\n",
       "      <td id=\"T_356a8_row3_col5\" class=\"data row3 col5\" >1.1942</td>\n",
       "    </tr>\n",
       "    <tr>\n",
       "      <th id=\"T_356a8_level0_row4\" class=\"row_heading level0 row4\" >4</th>\n",
       "      <td id=\"T_356a8_row4_col0\" class=\"data row4 col0\" >0.5562</td>\n",
       "      <td id=\"T_356a8_row4_col1\" class=\"data row4 col1\" >1.2037</td>\n",
       "      <td id=\"T_356a8_row4_col2\" class=\"data row4 col2\" >1.0971</td>\n",
       "      <td id=\"T_356a8_row4_col3\" class=\"data row4 col3\" >0.8008</td>\n",
       "      <td id=\"T_356a8_row4_col4\" class=\"data row4 col4\" >0.2839</td>\n",
       "      <td id=\"T_356a8_row4_col5\" class=\"data row4 col5\" >1.2111</td>\n",
       "    </tr>\n",
       "    <tr>\n",
       "      <th id=\"T_356a8_level0_row5\" class=\"row_heading level0 row5\" >5</th>\n",
       "      <td id=\"T_356a8_row5_col0\" class=\"data row5 col0\" >0.5534</td>\n",
       "      <td id=\"T_356a8_row5_col1\" class=\"data row5 col1\" >1.1953</td>\n",
       "      <td id=\"T_356a8_row5_col2\" class=\"data row5 col2\" >1.0933</td>\n",
       "      <td id=\"T_356a8_row5_col3\" class=\"data row5 col3\" >0.7975</td>\n",
       "      <td id=\"T_356a8_row5_col4\" class=\"data row5 col4\" >0.2842</td>\n",
       "      <td id=\"T_356a8_row5_col5\" class=\"data row5 col5\" >1.2307</td>\n",
       "    </tr>\n",
       "    <tr>\n",
       "      <th id=\"T_356a8_level0_row6\" class=\"row_heading level0 row6\" >6</th>\n",
       "      <td id=\"T_356a8_row6_col0\" class=\"data row6 col0\" >0.5557</td>\n",
       "      <td id=\"T_356a8_row6_col1\" class=\"data row6 col1\" >1.2095</td>\n",
       "      <td id=\"T_356a8_row6_col2\" class=\"data row6 col2\" >1.0998</td>\n",
       "      <td id=\"T_356a8_row6_col3\" class=\"data row6 col3\" >0.7983</td>\n",
       "      <td id=\"T_356a8_row6_col4\" class=\"data row6 col4\" >0.2865</td>\n",
       "      <td id=\"T_356a8_row6_col5\" class=\"data row6 col5\" >1.2096</td>\n",
       "    </tr>\n",
       "    <tr>\n",
       "      <th id=\"T_356a8_level0_row7\" class=\"row_heading level0 row7\" >7</th>\n",
       "      <td id=\"T_356a8_row7_col0\" class=\"data row7 col0\" >0.5509</td>\n",
       "      <td id=\"T_356a8_row7_col1\" class=\"data row7 col1\" >1.1879</td>\n",
       "      <td id=\"T_356a8_row7_col2\" class=\"data row7 col2\" >1.0899</td>\n",
       "      <td id=\"T_356a8_row7_col3\" class=\"data row7 col3\" >0.7984</td>\n",
       "      <td id=\"T_356a8_row7_col4\" class=\"data row7 col4\" >0.2835</td>\n",
       "      <td id=\"T_356a8_row7_col5\" class=\"data row7 col5\" >1.2482</td>\n",
       "    </tr>\n",
       "    <tr>\n",
       "      <th id=\"T_356a8_level0_row8\" class=\"row_heading level0 row8\" >8</th>\n",
       "      <td id=\"T_356a8_row8_col0\" class=\"data row8 col0\" >0.5580</td>\n",
       "      <td id=\"T_356a8_row8_col1\" class=\"data row8 col1\" >1.2253</td>\n",
       "      <td id=\"T_356a8_row8_col2\" class=\"data row8 col2\" >1.1069</td>\n",
       "      <td id=\"T_356a8_row8_col3\" class=\"data row8 col3\" >0.7959</td>\n",
       "      <td id=\"T_356a8_row8_col4\" class=\"data row8 col4\" >0.2838</td>\n",
       "      <td id=\"T_356a8_row8_col5\" class=\"data row8 col5\" >1.2304</td>\n",
       "    </tr>\n",
       "    <tr>\n",
       "      <th id=\"T_356a8_level0_row9\" class=\"row_heading level0 row9\" >9</th>\n",
       "      <td id=\"T_356a8_row9_col0\" class=\"data row9 col0\" >0.5640</td>\n",
       "      <td id=\"T_356a8_row9_col1\" class=\"data row9 col1\" >1.2479</td>\n",
       "      <td id=\"T_356a8_row9_col2\" class=\"data row9 col2\" >1.1171</td>\n",
       "      <td id=\"T_356a8_row9_col3\" class=\"data row9 col3\" >0.7976</td>\n",
       "      <td id=\"T_356a8_row9_col4\" class=\"data row9 col4\" >0.2862</td>\n",
       "      <td id=\"T_356a8_row9_col5\" class=\"data row9 col5\" >1.2056</td>\n",
       "    </tr>\n",
       "    <tr>\n",
       "      <th id=\"T_356a8_level0_row10\" class=\"row_heading level0 row10\" >Mean</th>\n",
       "      <td id=\"T_356a8_row10_col0\" class=\"data row10 col0\" >0.5576</td>\n",
       "      <td id=\"T_356a8_row10_col1\" class=\"data row10 col1\" >1.2182</td>\n",
       "      <td id=\"T_356a8_row10_col2\" class=\"data row10 col2\" >1.1037</td>\n",
       "      <td id=\"T_356a8_row10_col3\" class=\"data row10 col3\" >0.7973</td>\n",
       "      <td id=\"T_356a8_row10_col4\" class=\"data row10 col4\" >0.2854</td>\n",
       "      <td id=\"T_356a8_row10_col5\" class=\"data row10 col5\" >1.2168</td>\n",
       "    </tr>\n",
       "    <tr>\n",
       "      <th id=\"T_356a8_level0_row11\" class=\"row_heading level0 row11\" >Std</th>\n",
       "      <td id=\"T_356a8_row11_col0\" class=\"data row11 col0\" >0.0038</td>\n",
       "      <td id=\"T_356a8_row11_col1\" class=\"data row11 col1\" >0.0201</td>\n",
       "      <td id=\"T_356a8_row11_col2\" class=\"data row11 col2\" >0.0091</td>\n",
       "      <td id=\"T_356a8_row11_col3\" class=\"data row11 col3\" >0.0025</td>\n",
       "      <td id=\"T_356a8_row11_col4\" class=\"data row11 col4\" >0.0016</td>\n",
       "      <td id=\"T_356a8_row11_col5\" class=\"data row11 col5\" >0.0189</td>\n",
       "    </tr>\n",
       "  </tbody>\n",
       "</table>\n"
      ],
      "text/plain": [
       "<pandas.io.formats.style.Styler at 0x1c99e1c4a60>"
      ]
     },
     "metadata": {},
     "output_type": "display_data"
    },
    {
     "data": {
      "application/vnd.jupyter.widget-view+json": {
       "model_id": "e0b23fa3040b4e9ea6dede0fde35e4eb",
       "version_major": 2,
       "version_minor": 0
      },
      "text/plain": [
       "Processing:   0%|          | 0/4 [00:00<?, ?it/s]"
      ]
     },
     "metadata": {},
     "output_type": "display_data"
    }
   ],
   "source": [
    "# train an extra trees regressor using 10-fold CV\n",
    "exp4_bestmodel = create_model('et')\n",
    "\n",
    "# track and dump cv training scores\n",
    "exp4_training = pull()\n",
    "exp4_training.to_csv('exp4_training.csv', index=False)"
   ]
  },
  {
   "cell_type": "code",
   "execution_count": 7,
   "metadata": {},
   "outputs": [
    {
     "data": {
      "text/html": [],
      "text/plain": [
       "<IPython.core.display.HTML object>"
      ]
     },
     "metadata": {},
     "output_type": "display_data"
    },
    {
     "data": {
      "text/plain": [
       "'Residuals.png'"
      ]
     },
     "execution_count": 7,
     "metadata": {},
     "output_type": "execute_result"
    }
   ],
   "source": [
    "# Residuals plot\n",
    "plot_model(exp4_bestmodel, plot = 'residuals', save = True)"
   ]
  },
  {
   "cell_type": "code",
   "execution_count": 8,
   "metadata": {},
   "outputs": [
    {
     "data": {
      "text/html": [],
      "text/plain": [
       "<IPython.core.display.HTML object>"
      ]
     },
     "metadata": {},
     "output_type": "display_data"
    },
    {
     "data": {
      "text/plain": [
       "'Prediction Error.png'"
      ]
     },
     "execution_count": 8,
     "metadata": {},
     "output_type": "execute_result"
    }
   ],
   "source": [
    "# Error plot\n",
    "plot_model(exp4_bestmodel, plot='error', save=True)"
   ]
  },
  {
   "cell_type": "code",
   "execution_count": 9,
   "metadata": {},
   "outputs": [
    {
     "data": {
      "text/html": [],
      "text/plain": [
       "<IPython.core.display.HTML object>"
      ]
     },
     "metadata": {},
     "output_type": "display_data"
    },
    {
     "data": {
      "text/plain": [
       "'Feature Importance.png'"
      ]
     },
     "execution_count": 9,
     "metadata": {},
     "output_type": "execute_result"
    }
   ],
   "source": [
    "# Feature importance plot\n",
    "plot_model(exp4_bestmodel, plot='feature', save=True)"
   ]
  },
  {
   "cell_type": "code",
   "execution_count": 10,
   "metadata": {},
   "outputs": [
    {
     "data": {
      "text/html": [
       "<style type=\"text/css\">\n",
       "</style>\n",
       "<table id=\"T_d3fa1\">\n",
       "  <thead>\n",
       "    <tr>\n",
       "      <th class=\"blank level0\" >&nbsp;</th>\n",
       "      <th id=\"T_d3fa1_level0_col0\" class=\"col_heading level0 col0\" >Model</th>\n",
       "      <th id=\"T_d3fa1_level0_col1\" class=\"col_heading level0 col1\" >MAE</th>\n",
       "      <th id=\"T_d3fa1_level0_col2\" class=\"col_heading level0 col2\" >MSE</th>\n",
       "      <th id=\"T_d3fa1_level0_col3\" class=\"col_heading level0 col3\" >RMSE</th>\n",
       "      <th id=\"T_d3fa1_level0_col4\" class=\"col_heading level0 col4\" >R2</th>\n",
       "      <th id=\"T_d3fa1_level0_col5\" class=\"col_heading level0 col5\" >RMSLE</th>\n",
       "      <th id=\"T_d3fa1_level0_col6\" class=\"col_heading level0 col6\" >MAPE</th>\n",
       "    </tr>\n",
       "  </thead>\n",
       "  <tbody>\n",
       "    <tr>\n",
       "      <th id=\"T_d3fa1_level0_row0\" class=\"row_heading level0 row0\" >0</th>\n",
       "      <td id=\"T_d3fa1_row0_col0\" class=\"data row0 col0\" >Extra Trees Regressor</td>\n",
       "      <td id=\"T_d3fa1_row0_col1\" class=\"data row0 col1\" >0.1891</td>\n",
       "      <td id=\"T_d3fa1_row0_col2\" class=\"data row0 col2\" >0.4626</td>\n",
       "      <td id=\"T_d3fa1_row0_col3\" class=\"data row0 col3\" >0.6802</td>\n",
       "      <td id=\"T_d3fa1_row0_col4\" class=\"data row0 col4\" >0.9229</td>\n",
       "      <td id=\"T_d3fa1_row0_col5\" class=\"data row0 col5\" >0.1394</td>\n",
       "      <td id=\"T_d3fa1_row0_col6\" class=\"data row0 col6\" >0.1714</td>\n",
       "    </tr>\n",
       "  </tbody>\n",
       "</table>\n"
      ],
      "text/plain": [
       "<pandas.io.formats.style.Styler at 0x1c99e3b2730>"
      ]
     },
     "metadata": {},
     "output_type": "display_data"
    }
   ],
   "source": [
    "# Use test/hold-out set to make predictions\n",
    "exp4_pred_holdout = predict_model(exp4_bestmodel)\n",
    "exp4_pred_holdout.to_csv('exp4_pred_holdout.csv', index=False)\n",
    "\n",
    "# Pull and export test/hold-out scores\n",
    "exp4_holdout = pull()\n",
    "exp4_holdout.to_csv('exp4_holdout.csv', index=False)"
   ]
  },
  {
   "cell_type": "code",
   "execution_count": 11,
   "metadata": {},
   "outputs": [
    {
     "name": "stdout",
     "output_type": "stream",
     "text": [
      "Transformation Pipeline and Model Successfully Saved\n"
     ]
    },
    {
     "data": {
      "text/plain": [
       "(Pipeline(memory=FastMemory(location=C:\\Users\\Sherman\\AppData\\Local\\Temp\\joblib),\n",
       "          steps=[('date_feature_extractor',\n",
       "                  TransformerWrapper(include=['TimeStamp'],\n",
       "                                     transformer=ExtractDateTimeFeatures())),\n",
       "                 ('numerical_imputer',\n",
       "                  TransformerWrapper(include=[], transformer=SimpleImputer())),\n",
       "                 ('categorical_imputer',\n",
       "                  TransformerWrapper(include=['Station', 'Material', 'Ve...\n",
       "                                     transformer=OneHotEncoder(cols=['Material'],\n",
       "                                                               handle_missing='return_nan',\n",
       "                                                               use_cat_names=True))),\n",
       "                 ('rest_encoding',\n",
       "                  TransformerWrapper(include=['Vehicle'],\n",
       "                                     transformer=LeaveOneOutEncoder(cols=['Vehicle'],\n",
       "                                                                    handle_missing='return_nan',\n",
       "                                                                    random_state=7512))),\n",
       "                 ('normalize', TransformerWrapper(transformer=StandardScaler())),\n",
       "                 ('trained_model',\n",
       "                  ExtraTreesRegressor(n_jobs=-1, random_state=7512))]),\n",
       " 'exp4_pipeline.pkl')"
      ]
     },
     "execution_count": 11,
     "metadata": {},
     "output_type": "execute_result"
    }
   ],
   "source": [
    "# Save model pkl file\n",
    "save_model(exp4_bestmodel, 'exp4_pipeline')"
   ]
  }
 ],
 "metadata": {
  "kernelspec": {
   "display_name": "PyCaret",
   "language": "python",
   "name": "python3"
  },
  "language_info": {
   "codemirror_mode": {
    "name": "ipython",
    "version": 3
   },
   "file_extension": ".py",
   "mimetype": "text/x-python",
   "name": "python",
   "nbconvert_exporter": "python",
   "pygments_lexer": "ipython3",
   "version": "3.8.16"
  },
  "orig_nbformat": 4,
  "vscode": {
   "interpreter": {
    "hash": "21b6eb3ede51be2a2a535b3f6476b1f8cba2bd29881341af479b5cf7ae1c74a4"
   }
  }
 },
 "nbformat": 4,
 "nbformat_minor": 2
}
