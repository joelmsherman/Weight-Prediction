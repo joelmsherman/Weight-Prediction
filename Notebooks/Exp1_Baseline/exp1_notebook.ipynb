{
 "cells": [
  {
   "attachments": {},
   "cell_type": "markdown",
   "metadata": {},
   "source": [
    "## Experiment 1: Baseline Model\n",
    "This experiment trains, validates and tunes a regression of load weights on the following features:\n",
    "\n",
    "1. **TimeStamp** Date and time of the load's arrival. \n",
    "1. **Station:** Facility (Metro Central or Metro South) to which the load is arriving\n",
    "2. **Material:** Dominant material stream (MSW, residential or commercial organics, wood or yard debris) arriving in the load\n",
    "3. **Vehicle ID:** Information about the arriving vehicle's truck number or general type (if truck number unknown)\n",
    "4. **Vehicle fullness:** The vehicle's level of \"fullness\", expressed as a percentage, rounded to 2 decimal places (scale of 1 to 100)\n",
    "\n",
    "The dataset is described in more detail in [this notebook](https://app.hex.tech/2737cf3a-31c1-4361-9f90-8dea0b629cf0/hex/fa95f966-0912-42ca-9c83-9e14b785420f/draft/logic). "
   ]
  },
  {
   "cell_type": "code",
   "execution_count": 1,
   "metadata": {},
   "outputs": [],
   "source": [
    "# import packages\n",
    "import pandas as pd\n",
    "import numpy as np\n",
    "from pycaret.regression import *"
   ]
  },
  {
   "cell_type": "code",
   "execution_count": 2,
   "metadata": {},
   "outputs": [],
   "source": [
    "# import data\n",
    "path = r'C:\\Users\\Sherman\\OneDrive - Metro\\Sherman\\Projects\\Metro TS Load Weight Prediction\\Data\\Baseline.csv'\n",
    "exp1_data = pd.read_csv(path)\n",
    "\n",
    "# convert timestamp column to datetime type\n",
    "exp1_data['TimeStamp'] = pd.to_datetime(exp1_data['TimeStamp'])"
   ]
  },
  {
   "cell_type": "code",
   "execution_count": 3,
   "metadata": {},
   "outputs": [
    {
     "data": {
      "text/html": [
       "<div>\n",
       "<style scoped>\n",
       "    .dataframe tbody tr th:only-of-type {\n",
       "        vertical-align: middle;\n",
       "    }\n",
       "\n",
       "    .dataframe tbody tr th {\n",
       "        vertical-align: top;\n",
       "    }\n",
       "\n",
       "    .dataframe thead th {\n",
       "        text-align: right;\n",
       "    }\n",
       "</style>\n",
       "<table border=\"1\" class=\"dataframe\">\n",
       "  <thead>\n",
       "    <tr style=\"text-align: right;\">\n",
       "      <th></th>\n",
       "      <th>TimeStamp</th>\n",
       "      <th>Station</th>\n",
       "      <th>Material</th>\n",
       "      <th>Vehicle</th>\n",
       "      <th>Fullness</th>\n",
       "      <th>Tons</th>\n",
       "    </tr>\n",
       "  </thead>\n",
       "  <tbody>\n",
       "    <tr>\n",
       "      <th>0</th>\n",
       "      <td>2021-04-04 07:02:21</td>\n",
       "      <td>Metro South</td>\n",
       "      <td>MSW</td>\n",
       "      <td>Standard Pickup</td>\n",
       "      <td>0.01</td>\n",
       "      <td>0.11</td>\n",
       "    </tr>\n",
       "    <tr>\n",
       "      <th>1</th>\n",
       "      <td>2021-04-04 07:01:35</td>\n",
       "      <td>Metro South</td>\n",
       "      <td>MSW</td>\n",
       "      <td>Standard Pickup</td>\n",
       "      <td>0.01</td>\n",
       "      <td>0.13</td>\n",
       "    </tr>\n",
       "    <tr>\n",
       "      <th>2</th>\n",
       "      <td>2021-04-04 07:05:41</td>\n",
       "      <td>Metro South</td>\n",
       "      <td>MSW</td>\n",
       "      <td>Standard Pickup</td>\n",
       "      <td>0.02</td>\n",
       "      <td>0.22</td>\n",
       "    </tr>\n",
       "    <tr>\n",
       "      <th>3</th>\n",
       "      <td>2021-04-04 07:13:58</td>\n",
       "      <td>Metro South</td>\n",
       "      <td>MSW</td>\n",
       "      <td>Standard Pickup</td>\n",
       "      <td>0.01</td>\n",
       "      <td>0.09</td>\n",
       "    </tr>\n",
       "    <tr>\n",
       "      <th>4</th>\n",
       "      <td>2021-04-04 07:15:39</td>\n",
       "      <td>Metro South</td>\n",
       "      <td>MSW</td>\n",
       "      <td>Standard Pickup</td>\n",
       "      <td>0.00</td>\n",
       "      <td>0.06</td>\n",
       "    </tr>\n",
       "  </tbody>\n",
       "</table>\n",
       "</div>"
      ],
      "text/plain": [
       "            TimeStamp      Station Material          Vehicle  Fullness  Tons\n",
       "0 2021-04-04 07:02:21  Metro South      MSW  Standard Pickup      0.01  0.11\n",
       "1 2021-04-04 07:01:35  Metro South      MSW  Standard Pickup      0.01  0.13\n",
       "2 2021-04-04 07:05:41  Metro South      MSW  Standard Pickup      0.02  0.22\n",
       "3 2021-04-04 07:13:58  Metro South      MSW  Standard Pickup      0.01  0.09\n",
       "4 2021-04-04 07:15:39  Metro South      MSW  Standard Pickup      0.00  0.06"
      ]
     },
     "execution_count": 3,
     "metadata": {},
     "output_type": "execute_result"
    }
   ],
   "source": [
    "exp1_data.head()"
   ]
  },
  {
   "cell_type": "code",
   "execution_count": 4,
   "metadata": {},
   "outputs": [],
   "source": [
    "# Set up experiment and pre-process data\n",
    "exp1 = setup(data = exp1_data, \n",
    "             target = 'Tons',\n",
    "             normalize = True,\n",
    "             session_id = 7512,\n",
    "             use_gpu = True\n",
    "            )"
   ]
  },
  {
   "cell_type": "code",
   "execution_count": 5,
   "metadata": {},
   "outputs": [],
   "source": [
    "# Get setup configuration grid\n",
    "exp1_config = pull()\n",
    "exp1_config.to_csv('exp1_config.csv', index=False)"
   ]
  },
  {
   "cell_type": "code",
   "execution_count": 6,
   "metadata": {},
   "outputs": [
    {
     "data": {
      "text/html": [
       "<div>\n",
       "<style scoped>\n",
       "    .dataframe tbody tr th:only-of-type {\n",
       "        vertical-align: middle;\n",
       "    }\n",
       "\n",
       "    .dataframe tbody tr th {\n",
       "        vertical-align: top;\n",
       "    }\n",
       "\n",
       "    .dataframe thead th {\n",
       "        text-align: right;\n",
       "    }\n",
       "</style>\n",
       "<table border=\"1\" class=\"dataframe\">\n",
       "  <thead>\n",
       "    <tr style=\"text-align: right;\">\n",
       "      <th></th>\n",
       "      <th></th>\n",
       "      <th></th>\n",
       "    </tr>\n",
       "    <tr>\n",
       "      <th></th>\n",
       "      <th></th>\n",
       "      <th></th>\n",
       "    </tr>\n",
       "  </thead>\n",
       "  <tbody>\n",
       "    <tr>\n",
       "      <th>Initiated</th>\n",
       "      <td>. . . . . . . . . . . . . . . . . .</td>\n",
       "      <td>14:01:03</td>\n",
       "    </tr>\n",
       "    <tr>\n",
       "      <th>Status</th>\n",
       "      <td>. . . . . . . . . . . . . . . . . .</td>\n",
       "      <td>Loading Dependencies</td>\n",
       "    </tr>\n",
       "    <tr>\n",
       "      <th>Estimator</th>\n",
       "      <td>. . . . . . . . . . . . . . . . . .</td>\n",
       "      <td>Compiling Library</td>\n",
       "    </tr>\n",
       "  </tbody>\n",
       "</table>\n",
       "</div>"
      ],
      "text/plain": [
       "                                                                    \n",
       "                                                                    \n",
       "Initiated  . . . . . . . . . . . . . . . . . .              14:01:03\n",
       "Status     . . . . . . . . . . . . . . . . . .  Loading Dependencies\n",
       "Estimator  . . . . . . . . . . . . . . . . . .     Compiling Library"
      ]
     },
     "metadata": {},
     "output_type": "display_data"
    },
    {
     "data": {
      "text/html": [],
      "text/plain": [
       "<IPython.core.display.HTML object>"
      ]
     },
     "metadata": {},
     "output_type": "display_data"
    }
   ],
   "source": [
    "# compare a suite of regressors on MAE using 10-fold CV\n",
    "exp1_bestmodel = compare_models(sort = 'MAE')\n",
    "\n",
    "# track and dump cv training scores\n",
    "exp1_training = pull()\n",
    "exp1_training.to_csv('exp1_training.csv', index=False)"
   ]
  },
  {
   "cell_type": "code",
   "execution_count": 7,
   "metadata": {},
   "outputs": [
    {
     "data": {
      "text/html": [],
      "text/plain": [
       "<IPython.core.display.HTML object>"
      ]
     },
     "metadata": {},
     "output_type": "display_data"
    },
    {
     "data": {
      "text/plain": [
       "'Residuals.png'"
      ]
     },
     "execution_count": 7,
     "metadata": {},
     "output_type": "execute_result"
    }
   ],
   "source": [
    "# Residuals plot\n",
    "plot_model(exp1_bestmodel, plot = 'residuals', save = True)"
   ]
  },
  {
   "cell_type": "code",
   "execution_count": 8,
   "metadata": {},
   "outputs": [
    {
     "data": {
      "text/html": [],
      "text/plain": [
       "<IPython.core.display.HTML object>"
      ]
     },
     "metadata": {},
     "output_type": "display_data"
    },
    {
     "data": {
      "text/plain": [
       "'Prediction Error.png'"
      ]
     },
     "execution_count": 8,
     "metadata": {},
     "output_type": "execute_result"
    }
   ],
   "source": [
    "# Error plot\n",
    "plot_model(exp1_bestmodel, plot='error', save=True)"
   ]
  },
  {
   "cell_type": "code",
   "execution_count": 9,
   "metadata": {},
   "outputs": [
    {
     "data": {
      "text/html": [],
      "text/plain": [
       "<IPython.core.display.HTML object>"
      ]
     },
     "metadata": {},
     "output_type": "display_data"
    },
    {
     "data": {
      "text/plain": [
       "'Feature Importance.png'"
      ]
     },
     "execution_count": 9,
     "metadata": {},
     "output_type": "execute_result"
    }
   ],
   "source": [
    "# Feature importance plot\n",
    "plot_model(exp1_bestmodel, plot='feature', save=True)"
   ]
  },
  {
   "cell_type": "code",
   "execution_count": 10,
   "metadata": {},
   "outputs": [
    {
     "data": {
      "text/html": [
       "<style type=\"text/css\">\n",
       "</style>\n",
       "<table id=\"T_a4dfb\">\n",
       "  <thead>\n",
       "    <tr>\n",
       "      <th class=\"blank level0\" >&nbsp;</th>\n",
       "      <th id=\"T_a4dfb_level0_col0\" class=\"col_heading level0 col0\" >Model</th>\n",
       "      <th id=\"T_a4dfb_level0_col1\" class=\"col_heading level0 col1\" >MAE</th>\n",
       "      <th id=\"T_a4dfb_level0_col2\" class=\"col_heading level0 col2\" >MSE</th>\n",
       "      <th id=\"T_a4dfb_level0_col3\" class=\"col_heading level0 col3\" >RMSE</th>\n",
       "      <th id=\"T_a4dfb_level0_col4\" class=\"col_heading level0 col4\" >R2</th>\n",
       "      <th id=\"T_a4dfb_level0_col5\" class=\"col_heading level0 col5\" >RMSLE</th>\n",
       "      <th id=\"T_a4dfb_level0_col6\" class=\"col_heading level0 col6\" >MAPE</th>\n",
       "    </tr>\n",
       "  </thead>\n",
       "  <tbody>\n",
       "    <tr>\n",
       "      <th id=\"T_a4dfb_level0_row0\" class=\"row_heading level0 row0\" >0</th>\n",
       "      <td id=\"T_a4dfb_row0_col0\" class=\"data row0 col0\" >Extra Trees Regressor</td>\n",
       "      <td id=\"T_a4dfb_row0_col1\" class=\"data row0 col1\" >0.0795</td>\n",
       "      <td id=\"T_a4dfb_row0_col2\" class=\"data row0 col2\" >0.1135</td>\n",
       "      <td id=\"T_a4dfb_row0_col3\" class=\"data row0 col3\" >0.3369</td>\n",
       "      <td id=\"T_a4dfb_row0_col4\" class=\"data row0 col4\" >0.9811</td>\n",
       "      <td id=\"T_a4dfb_row0_col5\" class=\"data row0 col5\" >0.0670</td>\n",
       "      <td id=\"T_a4dfb_row0_col6\" class=\"data row0 col6\" >0.0794</td>\n",
       "    </tr>\n",
       "  </tbody>\n",
       "</table>\n"
      ],
      "text/plain": [
       "<pandas.io.formats.style.Styler at 0x1f73d36aee0>"
      ]
     },
     "metadata": {},
     "output_type": "display_data"
    }
   ],
   "source": [
    "# Use test/hold-out set to make predictions\n",
    "exp1_pred_holdout = predict_model(exp1_bestmodel)\n",
    "exp1_pred_holdout.to_csv('exp1_pred_holdout.csv', index=False)\n",
    "\n",
    "# Pull and export test/hold-out scores\n",
    "exp1_holdout = pull()\n",
    "exp1_holdout.to_csv('exp1_holdout.csv', index=False)"
   ]
  },
  {
   "cell_type": "code",
   "execution_count": 11,
   "metadata": {},
   "outputs": [
    {
     "name": "stdout",
     "output_type": "stream",
     "text": [
      "Transformation Pipeline and Model Successfully Saved\n"
     ]
    },
    {
     "data": {
      "text/plain": [
       "(Pipeline(memory=FastMemory(location=C:\\Users\\Sherman\\AppData\\Local\\Temp\\joblib),\n",
       "          steps=[('date_feature_extractor',\n",
       "                  TransformerWrapper(include=['TimeStamp'],\n",
       "                                     transformer=ExtractDateTimeFeatures())),\n",
       "                 ('numerical_imputer',\n",
       "                  TransformerWrapper(include=['Fullness'],\n",
       "                                     transformer=SimpleImputer())),\n",
       "                 ('categorical_imputer',\n",
       "                  TransformerWrapper(include=['Station', 'Mat...\n",
       "                                     transformer=OneHotEncoder(cols=['Material'],\n",
       "                                                               handle_missing='return_nan',\n",
       "                                                               use_cat_names=True))),\n",
       "                 ('rest_encoding',\n",
       "                  TransformerWrapper(include=['Vehicle'],\n",
       "                                     transformer=LeaveOneOutEncoder(cols=['Vehicle'],\n",
       "                                                                    handle_missing='return_nan',\n",
       "                                                                    random_state=7512))),\n",
       "                 ('normalize', TransformerWrapper(transformer=StandardScaler())),\n",
       "                 ('trained_model',\n",
       "                  ExtraTreesRegressor(n_jobs=-1, random_state=7512))]),\n",
       " 'exp1_pipeline.pkl')"
      ]
     },
     "execution_count": 11,
     "metadata": {},
     "output_type": "execute_result"
    }
   ],
   "source": [
    "# Save model pkl file\n",
    "save_model(exp1_bestmodel, 'exp1_pipeline')"
   ]
  }
 ],
 "metadata": {
  "kernelspec": {
   "display_name": "PyCaret",
   "language": "python",
   "name": "python3"
  },
  "language_info": {
   "codemirror_mode": {
    "name": "ipython",
    "version": 3
   },
   "file_extension": ".py",
   "mimetype": "text/x-python",
   "name": "python",
   "nbconvert_exporter": "python",
   "pygments_lexer": "ipython3",
   "version": "3.8.16"
  },
  "orig_nbformat": 4,
  "vscode": {
   "interpreter": {
    "hash": "21b6eb3ede51be2a2a535b3f6476b1f8cba2bd29881341af479b5cf7ae1c74a4"
   }
  }
 },
 "nbformat": 4,
 "nbformat_minor": 2
}
